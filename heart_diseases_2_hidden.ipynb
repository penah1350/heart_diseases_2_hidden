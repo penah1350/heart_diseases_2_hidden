{
  "cells": [
    {
      "cell_type": "code",
      "execution_count": null,
      "id": "007e22a0",
      "metadata": {
        "id": "007e22a0"
      },
      "outputs": [],
      "source": [
        "Homework week 9 DS-002\n"
      ]
    },
    {
      "cell_type": "code",
      "execution_count": null,
      "id": "6717d4fd",
      "metadata": {
        "id": "6717d4fd"
      },
      "outputs": [],
      "source": [
        "# Question 1:  What are the dimensions of the matrices you will use to represent your model (inputs,\n",
        "# parameters, and outputs)? How will you integrate the concept of mini - batch training?\n",
        "#Answer: in my data i have 14 columns with data but i input 13 because the last one is target(input)."
      ]
    },
    {
      "cell_type": "code",
      "execution_count": null,
      "id": "8ee4987c",
      "metadata": {
        "id": "8ee4987c"
      },
      "outputs": [],
      "source": [
        "# Question:As a first step, use MLP with 2 hidden\n",
        "# layers\n",
        "# containing 6 and 4 units respectively."
      ]
    },
    {
      "cell_type": "code",
      "execution_count": 38,
      "id": "87c87d39",
      "metadata": {
        "colab": {
          "base_uri": "https://localhost:8080/"
        },
        "id": "87c87d39",
        "outputId": "8ed5c7cd-a59a-4fa3-a5f9-220485477362"
      },
      "outputs": [
        {
          "output_type": "stream",
          "name": "stdout",
          "text": [
            "MLP Output: [[2.13872362]]\n"
          ]
        }
      ],
      "source": [
        "import numpy as np\n",
        "def sigmoid(x):\n",
        "    return 1 / (1 + np.exp(-x))\n",
        "\n",
        "\n",
        "def sigmoid_derivative(x):\n",
        "    return x * (1 - x)\n",
        "\n",
        "\n",
        "class MLP:\n",
        "    def __init__(self, input_size, hidden1_size, hidden2_size, output_size):\n",
        "        self.weights_input_hidden1 = np.random.rand(input_size, hidden1_size)\n",
        "        self.weights_hidden1_hidden2 = np.random.rand(hidden1_size, hidden2_size)\n",
        "        self.weights_hidden2_output = np.random.rand(hidden2_size, output_size)\n",
        "\n",
        "        self.bias_hidden1 = np.random.rand(hidden1_size)\n",
        "        self.bias_hidden2 = np.random.rand(hidden2_size)\n",
        "        self.bias_output = np.random.rand(output_size)\n",
        "\n",
        "    def forward(self, x):\n",
        "        hidden1_input = np.dot(x, self.weights_input_hidden1) + self.bias_hidden1\n",
        "        hidden1_output = sigmoid(hidden1_input)\n",
        "\n",
        "        hidden2_input = np.dot(hidden1_output, self.weights_hidden1_hidden2) + self.bias_hidden2\n",
        "        hidden2_output = sigmoid(hidden2_input)\n",
        "\n",
        "        output = np.dot(hidden2_output, self.weights_hidden2_output) + self.bias_output\n",
        "\n",
        "        return output\n",
        "\n",
        "input_size = 13\n",
        "hidden1_size = 6\n",
        "hidden2_size = 4\n",
        "output_size = 1\n",
        "\n",
        "mlp = MLP(input_size, hidden1_size, hidden2_size, output_size)\n",
        "input_data = np.random.rand(1, input_size)\n",
        "output = mlp.forward(input_data)\n",
        "print(\"MLP Output:\", output)\n"
      ]
    },
    {
      "cell_type": "code",
      "source": [
        "import torch\n",
        "from torch import nn\n",
        "from torch.utils.data import DataLoader\n",
        "from torchvision import datasets\n",
        "from torchvision.transforms import ToTensor, Lambda, Compose\n",
        "import matplotlib.pyplot as plt\n",
        "import pandas as pd\n",
        "import numpy as np\n",
        "import matplotlib.pyplot as plt\n",
        "from tensorflow.keras.utils import to_categorical\n",
        "from keras.models import Sequential\n",
        "from keras.layers import Dense, Dropout\n",
        "from sklearn.metrics import classification_report, confusion_matrix,accuracy_score\n",
        "from sklearn.model_selection import train_test_split\n",
        "from sklearn.preprocessing import *\n",
        "from sklearn import preprocessing"
      ],
      "metadata": {
        "id": "W6MYPX28bp4z"
      },
      "id": "W6MYPX28bp4z",
      "execution_count": 22,
      "outputs": []
    },
    {
      "cell_type": "code",
      "execution_count": 4,
      "id": "7536ab7a",
      "metadata": {
        "colab": {
          "base_uri": "https://localhost:8080/",
          "height": 487
        },
        "id": "7536ab7a",
        "outputId": "63c6535e-aba8-40fb-f6ca-9ab6cabde9fa"
      },
      "outputs": [
        {
          "output_type": "execute_result",
          "data": {
            "text/plain": [
              "     age  sex  chest_pain_type  resting_blood_pressure  cholesterol  \\\n",
              "0     63    1                3                     145          233   \n",
              "1     37    1                2                     130          250   \n",
              "2     41    0                1                     130          204   \n",
              "3     56    1                1                     120          236   \n",
              "4     57    0                0                     120          354   \n",
              "..   ...  ...              ...                     ...          ...   \n",
              "298   57    0                0                     140          241   \n",
              "299   45    1                3                     110          264   \n",
              "300   68    1                0                     144          193   \n",
              "301   57    1                0                     130          131   \n",
              "302   57    0                1                     130          236   \n",
              "\n",
              "     fasting_blood_sugar  rest_ecg  max_heart_rate_achieved  \\\n",
              "0                      1         0                      150   \n",
              "1                      0         1                      187   \n",
              "2                      0         0                      172   \n",
              "3                      0         1                      178   \n",
              "4                      0         1                      163   \n",
              "..                   ...       ...                      ...   \n",
              "298                    0         1                      123   \n",
              "299                    0         1                      132   \n",
              "300                    1         1                      141   \n",
              "301                    0         1                      115   \n",
              "302                    0         0                      174   \n",
              "\n",
              "     exercise_induced_angina  st_depression  st_slope  num_major_vessels  \\\n",
              "0                          0            2.3         0                  0   \n",
              "1                          0            3.5         0                  0   \n",
              "2                          0            1.4         2                  0   \n",
              "3                          0            0.8         2                  0   \n",
              "4                          1            0.6         2                  0   \n",
              "..                       ...            ...       ...                ...   \n",
              "298                        1            0.2         1                  0   \n",
              "299                        0            1.2         1                  0   \n",
              "300                        0            3.4         1                  2   \n",
              "301                        1            1.2         1                  1   \n",
              "302                        0            0.0         1                  1   \n",
              "\n",
              "     thalassemia  target  \n",
              "0              1       1  \n",
              "1              2       1  \n",
              "2              2       1  \n",
              "3              2       1  \n",
              "4              2       1  \n",
              "..           ...     ...  \n",
              "298            3       0  \n",
              "299            3       0  \n",
              "300            3       0  \n",
              "301            3       0  \n",
              "302            2       0  \n",
              "\n",
              "[303 rows x 14 columns]"
            ],
            "text/html": [
              "\n",
              "\n",
              "  <div id=\"df-581e14f7-4d90-4a52-88d1-c31d90f34faa\">\n",
              "    <div class=\"colab-df-container\">\n",
              "      <div>\n",
              "<style scoped>\n",
              "    .dataframe tbody tr th:only-of-type {\n",
              "        vertical-align: middle;\n",
              "    }\n",
              "\n",
              "    .dataframe tbody tr th {\n",
              "        vertical-align: top;\n",
              "    }\n",
              "\n",
              "    .dataframe thead th {\n",
              "        text-align: right;\n",
              "    }\n",
              "</style>\n",
              "<table border=\"1\" class=\"dataframe\">\n",
              "  <thead>\n",
              "    <tr style=\"text-align: right;\">\n",
              "      <th></th>\n",
              "      <th>age</th>\n",
              "      <th>sex</th>\n",
              "      <th>chest_pain_type</th>\n",
              "      <th>resting_blood_pressure</th>\n",
              "      <th>cholesterol</th>\n",
              "      <th>fasting_blood_sugar</th>\n",
              "      <th>rest_ecg</th>\n",
              "      <th>max_heart_rate_achieved</th>\n",
              "      <th>exercise_induced_angina</th>\n",
              "      <th>st_depression</th>\n",
              "      <th>st_slope</th>\n",
              "      <th>num_major_vessels</th>\n",
              "      <th>thalassemia</th>\n",
              "      <th>target</th>\n",
              "    </tr>\n",
              "  </thead>\n",
              "  <tbody>\n",
              "    <tr>\n",
              "      <th>0</th>\n",
              "      <td>63</td>\n",
              "      <td>1</td>\n",
              "      <td>3</td>\n",
              "      <td>145</td>\n",
              "      <td>233</td>\n",
              "      <td>1</td>\n",
              "      <td>0</td>\n",
              "      <td>150</td>\n",
              "      <td>0</td>\n",
              "      <td>2.3</td>\n",
              "      <td>0</td>\n",
              "      <td>0</td>\n",
              "      <td>1</td>\n",
              "      <td>1</td>\n",
              "    </tr>\n",
              "    <tr>\n",
              "      <th>1</th>\n",
              "      <td>37</td>\n",
              "      <td>1</td>\n",
              "      <td>2</td>\n",
              "      <td>130</td>\n",
              "      <td>250</td>\n",
              "      <td>0</td>\n",
              "      <td>1</td>\n",
              "      <td>187</td>\n",
              "      <td>0</td>\n",
              "      <td>3.5</td>\n",
              "      <td>0</td>\n",
              "      <td>0</td>\n",
              "      <td>2</td>\n",
              "      <td>1</td>\n",
              "    </tr>\n",
              "    <tr>\n",
              "      <th>2</th>\n",
              "      <td>41</td>\n",
              "      <td>0</td>\n",
              "      <td>1</td>\n",
              "      <td>130</td>\n",
              "      <td>204</td>\n",
              "      <td>0</td>\n",
              "      <td>0</td>\n",
              "      <td>172</td>\n",
              "      <td>0</td>\n",
              "      <td>1.4</td>\n",
              "      <td>2</td>\n",
              "      <td>0</td>\n",
              "      <td>2</td>\n",
              "      <td>1</td>\n",
              "    </tr>\n",
              "    <tr>\n",
              "      <th>3</th>\n",
              "      <td>56</td>\n",
              "      <td>1</td>\n",
              "      <td>1</td>\n",
              "      <td>120</td>\n",
              "      <td>236</td>\n",
              "      <td>0</td>\n",
              "      <td>1</td>\n",
              "      <td>178</td>\n",
              "      <td>0</td>\n",
              "      <td>0.8</td>\n",
              "      <td>2</td>\n",
              "      <td>0</td>\n",
              "      <td>2</td>\n",
              "      <td>1</td>\n",
              "    </tr>\n",
              "    <tr>\n",
              "      <th>4</th>\n",
              "      <td>57</td>\n",
              "      <td>0</td>\n",
              "      <td>0</td>\n",
              "      <td>120</td>\n",
              "      <td>354</td>\n",
              "      <td>0</td>\n",
              "      <td>1</td>\n",
              "      <td>163</td>\n",
              "      <td>1</td>\n",
              "      <td>0.6</td>\n",
              "      <td>2</td>\n",
              "      <td>0</td>\n",
              "      <td>2</td>\n",
              "      <td>1</td>\n",
              "    </tr>\n",
              "    <tr>\n",
              "      <th>...</th>\n",
              "      <td>...</td>\n",
              "      <td>...</td>\n",
              "      <td>...</td>\n",
              "      <td>...</td>\n",
              "      <td>...</td>\n",
              "      <td>...</td>\n",
              "      <td>...</td>\n",
              "      <td>...</td>\n",
              "      <td>...</td>\n",
              "      <td>...</td>\n",
              "      <td>...</td>\n",
              "      <td>...</td>\n",
              "      <td>...</td>\n",
              "      <td>...</td>\n",
              "    </tr>\n",
              "    <tr>\n",
              "      <th>298</th>\n",
              "      <td>57</td>\n",
              "      <td>0</td>\n",
              "      <td>0</td>\n",
              "      <td>140</td>\n",
              "      <td>241</td>\n",
              "      <td>0</td>\n",
              "      <td>1</td>\n",
              "      <td>123</td>\n",
              "      <td>1</td>\n",
              "      <td>0.2</td>\n",
              "      <td>1</td>\n",
              "      <td>0</td>\n",
              "      <td>3</td>\n",
              "      <td>0</td>\n",
              "    </tr>\n",
              "    <tr>\n",
              "      <th>299</th>\n",
              "      <td>45</td>\n",
              "      <td>1</td>\n",
              "      <td>3</td>\n",
              "      <td>110</td>\n",
              "      <td>264</td>\n",
              "      <td>0</td>\n",
              "      <td>1</td>\n",
              "      <td>132</td>\n",
              "      <td>0</td>\n",
              "      <td>1.2</td>\n",
              "      <td>1</td>\n",
              "      <td>0</td>\n",
              "      <td>3</td>\n",
              "      <td>0</td>\n",
              "    </tr>\n",
              "    <tr>\n",
              "      <th>300</th>\n",
              "      <td>68</td>\n",
              "      <td>1</td>\n",
              "      <td>0</td>\n",
              "      <td>144</td>\n",
              "      <td>193</td>\n",
              "      <td>1</td>\n",
              "      <td>1</td>\n",
              "      <td>141</td>\n",
              "      <td>0</td>\n",
              "      <td>3.4</td>\n",
              "      <td>1</td>\n",
              "      <td>2</td>\n",
              "      <td>3</td>\n",
              "      <td>0</td>\n",
              "    </tr>\n",
              "    <tr>\n",
              "      <th>301</th>\n",
              "      <td>57</td>\n",
              "      <td>1</td>\n",
              "      <td>0</td>\n",
              "      <td>130</td>\n",
              "      <td>131</td>\n",
              "      <td>0</td>\n",
              "      <td>1</td>\n",
              "      <td>115</td>\n",
              "      <td>1</td>\n",
              "      <td>1.2</td>\n",
              "      <td>1</td>\n",
              "      <td>1</td>\n",
              "      <td>3</td>\n",
              "      <td>0</td>\n",
              "    </tr>\n",
              "    <tr>\n",
              "      <th>302</th>\n",
              "      <td>57</td>\n",
              "      <td>0</td>\n",
              "      <td>1</td>\n",
              "      <td>130</td>\n",
              "      <td>236</td>\n",
              "      <td>0</td>\n",
              "      <td>0</td>\n",
              "      <td>174</td>\n",
              "      <td>0</td>\n",
              "      <td>0.0</td>\n",
              "      <td>1</td>\n",
              "      <td>1</td>\n",
              "      <td>2</td>\n",
              "      <td>0</td>\n",
              "    </tr>\n",
              "  </tbody>\n",
              "</table>\n",
              "<p>303 rows × 14 columns</p>\n",
              "</div>\n",
              "      <button class=\"colab-df-convert\" onclick=\"convertToInteractive('df-581e14f7-4d90-4a52-88d1-c31d90f34faa')\"\n",
              "              title=\"Convert this dataframe to an interactive table.\"\n",
              "              style=\"display:none;\">\n",
              "\n",
              "  <svg xmlns=\"http://www.w3.org/2000/svg\" height=\"24px\"viewBox=\"0 0 24 24\"\n",
              "       width=\"24px\">\n",
              "    <path d=\"M0 0h24v24H0V0z\" fill=\"none\"/>\n",
              "    <path d=\"M18.56 5.44l.94 2.06.94-2.06 2.06-.94-2.06-.94-.94-2.06-.94 2.06-2.06.94zm-11 1L8.5 8.5l.94-2.06 2.06-.94-2.06-.94L8.5 2.5l-.94 2.06-2.06.94zm10 10l.94 2.06.94-2.06 2.06-.94-2.06-.94-.94-2.06-.94 2.06-2.06.94z\"/><path d=\"M17.41 7.96l-1.37-1.37c-.4-.4-.92-.59-1.43-.59-.52 0-1.04.2-1.43.59L10.3 9.45l-7.72 7.72c-.78.78-.78 2.05 0 2.83L4 21.41c.39.39.9.59 1.41.59.51 0 1.02-.2 1.41-.59l7.78-7.78 2.81-2.81c.8-.78.8-2.07 0-2.86zM5.41 20L4 18.59l7.72-7.72 1.47 1.35L5.41 20z\"/>\n",
              "  </svg>\n",
              "      </button>\n",
              "\n",
              "\n",
              "\n",
              "    <div id=\"df-8cfe80af-931f-440c-af45-c70af3a765f5\">\n",
              "      <button class=\"colab-df-quickchart\" onclick=\"quickchart('df-8cfe80af-931f-440c-af45-c70af3a765f5')\"\n",
              "              title=\"Suggest charts.\"\n",
              "              style=\"display:none;\">\n",
              "\n",
              "<svg xmlns=\"http://www.w3.org/2000/svg\" height=\"24px\"viewBox=\"0 0 24 24\"\n",
              "     width=\"24px\">\n",
              "    <g>\n",
              "        <path d=\"M19 3H5c-1.1 0-2 .9-2 2v14c0 1.1.9 2 2 2h14c1.1 0 2-.9 2-2V5c0-1.1-.9-2-2-2zM9 17H7v-7h2v7zm4 0h-2V7h2v10zm4 0h-2v-4h2v4z\"/>\n",
              "    </g>\n",
              "</svg>\n",
              "      </button>\n",
              "    </div>\n",
              "\n",
              "<style>\n",
              "  .colab-df-quickchart {\n",
              "    background-color: #E8F0FE;\n",
              "    border: none;\n",
              "    border-radius: 50%;\n",
              "    cursor: pointer;\n",
              "    display: none;\n",
              "    fill: #1967D2;\n",
              "    height: 32px;\n",
              "    padding: 0 0 0 0;\n",
              "    width: 32px;\n",
              "  }\n",
              "\n",
              "  .colab-df-quickchart:hover {\n",
              "    background-color: #E2EBFA;\n",
              "    box-shadow: 0px 1px 2px rgba(60, 64, 67, 0.3), 0px 1px 3px 1px rgba(60, 64, 67, 0.15);\n",
              "    fill: #174EA6;\n",
              "  }\n",
              "\n",
              "  [theme=dark] .colab-df-quickchart {\n",
              "    background-color: #3B4455;\n",
              "    fill: #D2E3FC;\n",
              "  }\n",
              "\n",
              "  [theme=dark] .colab-df-quickchart:hover {\n",
              "    background-color: #434B5C;\n",
              "    box-shadow: 0px 1px 3px 1px rgba(0, 0, 0, 0.15);\n",
              "    filter: drop-shadow(0px 1px 2px rgba(0, 0, 0, 0.3));\n",
              "    fill: #FFFFFF;\n",
              "  }\n",
              "</style>\n",
              "\n",
              "    <script>\n",
              "      async function quickchart(key) {\n",
              "        const containerElement = document.querySelector('#' + key);\n",
              "        const charts = await google.colab.kernel.invokeFunction(\n",
              "            'suggestCharts', [key], {});\n",
              "      }\n",
              "    </script>\n",
              "\n",
              "      <script>\n",
              "\n",
              "function displayQuickchartButton(domScope) {\n",
              "  let quickchartButtonEl =\n",
              "    domScope.querySelector('#df-8cfe80af-931f-440c-af45-c70af3a765f5 button.colab-df-quickchart');\n",
              "  quickchartButtonEl.style.display =\n",
              "    google.colab.kernel.accessAllowed ? 'block' : 'none';\n",
              "}\n",
              "\n",
              "        displayQuickchartButton(document);\n",
              "      </script>\n",
              "      <style>\n",
              "    .colab-df-container {\n",
              "      display:flex;\n",
              "      flex-wrap:wrap;\n",
              "      gap: 12px;\n",
              "    }\n",
              "\n",
              "    .colab-df-convert {\n",
              "      background-color: #E8F0FE;\n",
              "      border: none;\n",
              "      border-radius: 50%;\n",
              "      cursor: pointer;\n",
              "      display: none;\n",
              "      fill: #1967D2;\n",
              "      height: 32px;\n",
              "      padding: 0 0 0 0;\n",
              "      width: 32px;\n",
              "    }\n",
              "\n",
              "    .colab-df-convert:hover {\n",
              "      background-color: #E2EBFA;\n",
              "      box-shadow: 0px 1px 2px rgba(60, 64, 67, 0.3), 0px 1px 3px 1px rgba(60, 64, 67, 0.15);\n",
              "      fill: #174EA6;\n",
              "    }\n",
              "\n",
              "    [theme=dark] .colab-df-convert {\n",
              "      background-color: #3B4455;\n",
              "      fill: #D2E3FC;\n",
              "    }\n",
              "\n",
              "    [theme=dark] .colab-df-convert:hover {\n",
              "      background-color: #434B5C;\n",
              "      box-shadow: 0px 1px 3px 1px rgba(0, 0, 0, 0.15);\n",
              "      filter: drop-shadow(0px 1px 2px rgba(0, 0, 0, 0.3));\n",
              "      fill: #FFFFFF;\n",
              "    }\n",
              "  </style>\n",
              "\n",
              "      <script>\n",
              "        const buttonEl =\n",
              "          document.querySelector('#df-581e14f7-4d90-4a52-88d1-c31d90f34faa button.colab-df-convert');\n",
              "        buttonEl.style.display =\n",
              "          google.colab.kernel.accessAllowed ? 'block' : 'none';\n",
              "\n",
              "        async function convertToInteractive(key) {\n",
              "          const element = document.querySelector('#df-581e14f7-4d90-4a52-88d1-c31d90f34faa');\n",
              "          const dataTable =\n",
              "            await google.colab.kernel.invokeFunction('convertToInteractive',\n",
              "                                                     [key], {});\n",
              "          if (!dataTable) return;\n",
              "\n",
              "          const docLinkHtml = 'Like what you see? Visit the ' +\n",
              "            '<a target=\"_blank\" href=https://colab.research.google.com/notebooks/data_table.ipynb>data table notebook</a>'\n",
              "            + ' to learn more about interactive tables.';\n",
              "          element.innerHTML = '';\n",
              "          dataTable['output_type'] = 'display_data';\n",
              "          await google.colab.output.renderOutput(dataTable, element);\n",
              "          const docLink = document.createElement('div');\n",
              "          docLink.innerHTML = docLinkHtml;\n",
              "          element.appendChild(docLink);\n",
              "        }\n",
              "      </script>\n",
              "    </div>\n",
              "  </div>\n"
            ]
          },
          "metadata": {},
          "execution_count": 4
        }
      ],
      "source": [
        "df=pd.read_csv(\"heart_disease.csv\", sep=\";\")\n",
        "df"
      ]
    },
    {
      "cell_type": "code",
      "execution_count": 5,
      "id": "8423b594",
      "metadata": {
        "colab": {
          "base_uri": "https://localhost:8080/"
        },
        "id": "8423b594",
        "outputId": "a9aab986-4bef-4189-f618-35968967ba06"
      },
      "outputs": [
        {
          "output_type": "stream",
          "name": "stdout",
          "text": [
            "\u001b[94mNumber of records (rows) in the dataset are: 303\n",
            "\u001b[94mNumber of features (columns) in the dataset are: 14\n",
            "\u001b[94mNumber of duplicate entries in the dataset are: 1\n",
            "\u001b[94mNumber missing values in the dataset are: 0\n"
          ]
        }
      ],
      "source": [
        "print(f'\\033[94mNumber of records (rows) in the dataset are: {df.shape[0]}')\n",
        "print(f'\\033[94mNumber of features (columns) in the dataset are: {df.shape[1]}')\n",
        "print(f'\\033[94mNumber of duplicate entries in the dataset are: {df.duplicated().sum()}')\n",
        "print(f'\\033[94mNumber missing values in the dataset are: {sum(df.isna().sum())}')"
      ]
    },
    {
      "cell_type": "code",
      "execution_count": 6,
      "id": "2ffffacf",
      "metadata": {
        "colab": {
          "base_uri": "https://localhost:8080/"
        },
        "id": "2ffffacf",
        "outputId": "486e2a03-a0f1-4f33-c376-38f2b28440f0"
      },
      "outputs": [
        {
          "output_type": "stream",
          "name": "stdout",
          "text": [
            "<class 'pandas.core.frame.DataFrame'>\n",
            "RangeIndex: 303 entries, 0 to 302\n",
            "Data columns (total 14 columns):\n",
            " #   Column                   Non-Null Count  Dtype  \n",
            "---  ------                   --------------  -----  \n",
            " 0   age                      303 non-null    int64  \n",
            " 1   sex                      303 non-null    int64  \n",
            " 2   chest_pain_type          303 non-null    int64  \n",
            " 3   resting_blood_pressure   303 non-null    int64  \n",
            " 4   cholesterol              303 non-null    int64  \n",
            " 5   fasting_blood_sugar      303 non-null    int64  \n",
            " 6   rest_ecg                 303 non-null    int64  \n",
            " 7   max_heart_rate_achieved  303 non-null    int64  \n",
            " 8   exercise_induced_angina  303 non-null    int64  \n",
            " 9   st_depression            303 non-null    float64\n",
            " 10  st_slope                 303 non-null    int64  \n",
            " 11  num_major_vessels        303 non-null    int64  \n",
            " 12  thalassemia              303 non-null    int64  \n",
            " 13  target                   303 non-null    int64  \n",
            "dtypes: float64(1), int64(13)\n",
            "memory usage: 33.3 KB\n"
          ]
        }
      ],
      "source": [
        "df.info()"
      ]
    },
    {
      "cell_type": "code",
      "execution_count": 42,
      "id": "f854c5ae",
      "metadata": {
        "id": "f854c5ae"
      },
      "outputs": [],
      "source": [
        "X=df.drop(\"target\",axis=1)\n",
        "y=df.target"
      ]
    },
    {
      "cell_type": "code",
      "source": [
        "X_train,X_test,y_train,y_test=train_test_split(X,y,test_size=0.2, stratify = y, shuffle = True, random_state=42)"
      ],
      "metadata": {
        "id": "OsptKoZ7bHe7"
      },
      "id": "OsptKoZ7bHe7",
      "execution_count": 43,
      "outputs": []
    },
    {
      "cell_type": "code",
      "source": [
        "scaled=StandardScaler()\n",
        "X_train=scaled.fit_transform(X_train)\n",
        "X_test=scaled.transform(X_test)"
      ],
      "metadata": {
        "id": "B5m-BDFdryT9"
      },
      "id": "B5m-BDFdryT9",
      "execution_count": 48,
      "outputs": []
    },
    {
      "cell_type": "code",
      "source": [
        "print(X_train.shape)\n",
        "print(y_train.shape)\n",
        "\n",
        "print(X_test.shape)\n",
        "print(y_test.shape)"
      ],
      "metadata": {
        "colab": {
          "base_uri": "https://localhost:8080/"
        },
        "id": "k5mR6_B6ryXU",
        "outputId": "bdd8382e-669b-4646-c454-c4aa11e16c7c"
      },
      "id": "k5mR6_B6ryXU",
      "execution_count": 49,
      "outputs": [
        {
          "output_type": "stream",
          "name": "stdout",
          "text": [
            "(242, 13)\n",
            "(242,)\n",
            "(61, 13)\n",
            "(61,)\n"
          ]
        }
      ]
    },
    {
      "cell_type": "code",
      "source": [
        "y_cat_train = to_categorical(y_train)\n",
        "y_cat_test = to_categorical(y_test)"
      ],
      "metadata": {
        "id": "TvyNZbkbryaW"
      },
      "id": "TvyNZbkbryaW",
      "execution_count": 50,
      "outputs": []
    },
    {
      "cell_type": "code",
      "source": [
        "print(y_train.shape)\n",
        "print(y_test.shape)"
      ],
      "metadata": {
        "colab": {
          "base_uri": "https://localhost:8080/"
        },
        "id": "JdQIItk5rydf",
        "outputId": "73be7efd-0468-4488-f14c-9f750ac7b1ec"
      },
      "id": "JdQIItk5rydf",
      "execution_count": 53,
      "outputs": [
        {
          "output_type": "stream",
          "name": "stdout",
          "text": [
            "(242,)\n",
            "(61,)\n"
          ]
        }
      ]
    },
    {
      "cell_type": "code",
      "source": [
        "print(y_cat_train.shape)\n",
        "print(y_cat_test.shape)"
      ],
      "metadata": {
        "colab": {
          "base_uri": "https://localhost:8080/"
        },
        "id": "qGR-gDtKrygN",
        "outputId": "f8f3182c-a7cc-4525-d322-2dcd8b315048"
      },
      "id": "qGR-gDtKrygN",
      "execution_count": 54,
      "outputs": [
        {
          "output_type": "stream",
          "name": "stdout",
          "text": [
            "(242, 2)\n",
            "(61, 2)\n"
          ]
        }
      ]
    },
    {
      "cell_type": "code",
      "execution_count": 80,
      "id": "0e0df976",
      "metadata": {
        "scrolled": true,
        "id": "0e0df976"
      },
      "outputs": [],
      "source": [
        "model = Sequential()\n",
        "model.add(Dense(128, input_dim=13, activation='relu'))\n",
        "model.add(Dense(128, activation='relu'))\n",
        "model.add(Dense(2, activation='softmax'))"
      ]
    },
    {
      "cell_type": "code",
      "execution_count": 81,
      "id": "51df4896",
      "metadata": {
        "id": "51df4896"
      },
      "outputs": [],
      "source": [
        "model.compile(loss='categorical_crossentropy', optimizer='adam', metrics=['accuracy'])"
      ]
    },
    {
      "cell_type": "code",
      "execution_count": 82,
      "id": "18cb4103",
      "metadata": {
        "colab": {
          "base_uri": "https://localhost:8080/"
        },
        "id": "18cb4103",
        "outputId": "cd109f7b-5365-4c5e-817c-b9ce430a6fd0"
      },
      "outputs": [
        {
          "output_type": "stream",
          "name": "stdout",
          "text": [
            "Model: \"sequential_3\"\n",
            "_________________________________________________________________\n",
            " Layer (type)                Output Shape              Param #   \n",
            "=================================================================\n",
            " dense_9 (Dense)             (None, 128)               1792      \n",
            "                                                                 \n",
            " dense_10 (Dense)            (None, 128)               16512     \n",
            "                                                                 \n",
            " dense_11 (Dense)            (None, 2)                 258       \n",
            "                                                                 \n",
            "=================================================================\n",
            "Total params: 18,562\n",
            "Trainable params: 18,562\n",
            "Non-trainable params: 0\n",
            "_________________________________________________________________\n",
            "None\n"
          ]
        }
      ],
      "source": [
        "print(model.summary())"
      ]
    },
    {
      "cell_type": "code",
      "execution_count": 85,
      "id": "7820ed43",
      "metadata": {
        "colab": {
          "base_uri": "https://localhost:8080/"
        },
        "id": "7820ed43",
        "outputId": "b37dd92d-d2bb-4d52-a142-b6205552f4bf"
      },
      "outputs": [
        {
          "output_type": "stream",
          "name": "stdout",
          "text": [
            "Epoch 1/15\n",
            "8/8 [==============================] - 0s 43ms/step - loss: 0.1771 - accuracy: 0.9545 - val_loss: 0.4531 - val_accuracy: 0.7869\n",
            "Epoch 2/15\n",
            "8/8 [==============================] - 0s 18ms/step - loss: 0.1665 - accuracy: 0.9504 - val_loss: 0.4674 - val_accuracy: 0.7869\n",
            "Epoch 3/15\n",
            "8/8 [==============================] - 0s 12ms/step - loss: 0.1560 - accuracy: 0.9628 - val_loss: 0.4593 - val_accuracy: 0.8033\n",
            "Epoch 4/15\n",
            "8/8 [==============================] - 0s 12ms/step - loss: 0.1498 - accuracy: 0.9669 - val_loss: 0.4758 - val_accuracy: 0.8033\n",
            "Epoch 5/15\n",
            "8/8 [==============================] - 0s 14ms/step - loss: 0.1379 - accuracy: 0.9711 - val_loss: 0.4821 - val_accuracy: 0.7869\n",
            "Epoch 6/15\n",
            "8/8 [==============================] - 0s 13ms/step - loss: 0.1287 - accuracy: 0.9752 - val_loss: 0.4940 - val_accuracy: 0.8033\n",
            "Epoch 7/15\n",
            "8/8 [==============================] - 0s 11ms/step - loss: 0.1205 - accuracy: 0.9752 - val_loss: 0.5076 - val_accuracy: 0.7869\n",
            "Epoch 8/15\n",
            "8/8 [==============================] - 0s 11ms/step - loss: 0.1121 - accuracy: 0.9752 - val_loss: 0.5200 - val_accuracy: 0.7869\n",
            "Epoch 9/15\n",
            "8/8 [==============================] - 0s 10ms/step - loss: 0.1055 - accuracy: 0.9793 - val_loss: 0.5174 - val_accuracy: 0.8033\n",
            "Epoch 10/15\n",
            "8/8 [==============================] - 0s 11ms/step - loss: 0.0970 - accuracy: 0.9835 - val_loss: 0.5423 - val_accuracy: 0.7705\n",
            "Epoch 11/15\n",
            "8/8 [==============================] - 0s 10ms/step - loss: 0.0910 - accuracy: 0.9835 - val_loss: 0.5487 - val_accuracy: 0.7869\n",
            "Epoch 12/15\n",
            "8/8 [==============================] - 0s 10ms/step - loss: 0.0855 - accuracy: 0.9835 - val_loss: 0.5465 - val_accuracy: 0.8197\n",
            "Epoch 13/15\n",
            "8/8 [==============================] - 0s 8ms/step - loss: 0.0783 - accuracy: 0.9876 - val_loss: 0.5658 - val_accuracy: 0.8033\n",
            "Epoch 14/15\n",
            "8/8 [==============================] - 0s 8ms/step - loss: 0.0729 - accuracy: 0.9917 - val_loss: 0.6040 - val_accuracy: 0.7869\n",
            "Epoch 15/15\n",
            "8/8 [==============================] - 0s 8ms/step - loss: 0.0672 - accuracy: 0.9917 - val_loss: 0.5877 - val_accuracy: 0.8033\n"
          ]
        },
        {
          "output_type": "execute_result",
          "data": {
            "text/plain": [
              "<keras.callbacks.History at 0x783841cab040>"
            ]
          },
          "metadata": {},
          "execution_count": 85
        }
      ],
      "source": [
        "model.fit(x_train,y_cat_train,epochs=15,validation_data=(x_test,y_cat_test) )"
      ]
    },
    {
      "cell_type": "code",
      "execution_count": 86,
      "id": "b3c206aa",
      "metadata": {
        "colab": {
          "base_uri": "https://localhost:8080/"
        },
        "id": "b3c206aa",
        "outputId": "e6a7dc21-9a84-4eee-9066-909a784b45b6"
      },
      "outputs": [
        {
          "output_type": "stream",
          "name": "stdout",
          "text": [
            "Evaluation of train:\n",
            "8/8 [==============================] - 0s 3ms/step - loss: 0.0615 - accuracy: 0.9917\n",
            "Evaluation of validation :\n",
            "2/2 [==============================] - 0s 11ms/step - loss: 0.5877 - accuracy: 0.8033\n"
          ]
        }
      ],
      "source": [
        "print (\"Evaluation of train:\" )\n",
        "scores_train = model.evaluate(x_train, y_cat_train)\n",
        "print (\"Evaluation of validation :\" )\n",
        "scores_test = model.evaluate(x_test, y_cat_test)"
      ]
    },
    {
      "cell_type": "code",
      "execution_count": 87,
      "id": "cf3eaa5b",
      "metadata": {
        "colab": {
          "base_uri": "https://localhost:8080/"
        },
        "id": "cf3eaa5b",
        "outputId": "dea23094-0b61-471b-b340-193ba59dbe6b"
      },
      "outputs": [
        {
          "output_type": "stream",
          "name": "stdout",
          "text": [
            "2/2 [==============================] - 0s 7ms/step\n",
            "Results for Categorical Model\n",
            "0.8032786885245902\n",
            "              precision    recall  f1-score   support\n",
            "\n",
            "           0       0.79      0.79      0.79        28\n",
            "           1       0.82      0.82      0.82        33\n",
            "\n",
            "    accuracy                           0.80        61\n",
            "   macro avg       0.80      0.80      0.80        61\n",
            "weighted avg       0.80      0.80      0.80        61\n",
            "\n"
          ]
        }
      ],
      "source": [
        "predictions = model.predict(x_test)\n",
        "\n",
        "prob_pred = np.argmax(predictions, axis=1)\n",
        "prob_pred\n",
        "\n",
        "print('Results for Categorical Model')\n",
        "print(accuracy_score(y_test, prob_pred))\n",
        "print(classification_report(y_test, prob_pred))"
      ]
    },
    {
      "cell_type": "code",
      "execution_count": null,
      "id": "47cb6501",
      "metadata": {
        "id": "47cb6501"
      },
      "outputs": [],
      "source": []
    }
  ],
  "metadata": {
    "kernelspec": {
      "display_name": "Python 3 (ipykernel)",
      "language": "python",
      "name": "python3"
    },
    "language_info": {
      "codemirror_mode": {
        "name": "ipython",
        "version": 3
      },
      "file_extension": ".py",
      "mimetype": "text/x-python",
      "name": "python",
      "nbconvert_exporter": "python",
      "pygments_lexer": "ipython3",
      "version": "3.10.9"
    },
    "colab": {
      "provenance": []
    }
  },
  "nbformat": 4,
  "nbformat_minor": 5
}